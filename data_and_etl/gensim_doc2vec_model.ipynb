{
 "cells": [
  {
   "cell_type": "code",
   "execution_count": 2,
   "metadata": {
    "collapsed": true
   },
   "outputs": [],
   "source": [
    "import os\n",
    "import csv\n",
    "import numpy as np\n",
    "import pandas as pd\n",
    "import zipfile\n",
    "import re\n",
    "\n",
    "from sklearn.feature_extraction.text import CountVectorizer\n",
    "from sklearn.feature_extraction.text import TfidfVectorizer\n",
    "from sklearn.feature_extraction.text import TfidfTransformer\n",
    "from sklearn.naive_bayes import MultinomialNB\n",
    "from sklearn import svm\n",
    "from sklearn.ensemble import RandomForestClassifier\n",
    "from sklearn.linear_model import LogisticRegression\n",
    "from sklearn.model_selection import train_test_split\n",
    "from sklearn.utils.validation import column_or_1d\n",
    "\n",
    "import warnings\n",
    "warnings.filterwarnings(\"ignore\", category=DeprecationWarning) "
   ]
  },
  {
   "cell_type": "code",
   "execution_count": 3,
   "metadata": {
    "collapsed": true
   },
   "outputs": [],
   "source": [
    "#unzip and read turns files into pandas df\n",
    "zf1 = zipfile.ZipFile('./turns_part1.zip') \n",
    "turns1 = pd.read_csv(zf1.open('turns_part1.csv'))\n",
    "zf2 = zipfile.ZipFile('./turns_part2.zip') \n",
    "turns2 = pd.read_csv(zf2.open('turns_part2.csv'))\n",
    "zf3 = zipfile.ZipFile('./turns_part3.zip') \n",
    "turns3 = pd.read_csv(zf3.open('turns_part3.csv'))\n",
    "zf4 = zipfile.ZipFile('./turns_part4.zip') \n",
    "turns4 = pd.read_csv(zf4.open('turns_part4.csv'))"
   ]
  },
  {
   "cell_type": "code",
   "execution_count": 7,
   "metadata": {},
   "outputs": [
    {
     "name": "stdout",
     "output_type": "stream",
     "text": [
      "Verdict extraction done!\n"
     ]
    },
    {
     "name": "stderr",
     "output_type": "stream",
     "text": [
      "/home/omar_altaher/anaconda2/lib/python2.7/site-packages/pandas/indexes/base.py:2134: UnicodeWarning: Unicode equal comparison failed to convert both arguments to Unicode - interpreting them as being unequal\n",
      "  return self._engine.get_loc(key)\n",
      "/home/omar_altaher/anaconda2/lib/python2.7/site-packages/pandas/indexes/base.py:2136: UnicodeWarning: Unicode equal comparison failed to convert both arguments to Unicode - interpreting them as being unequal\n",
      "  return self._engine.get_loc(self._maybe_cast_indexer(key))\n"
     ]
    },
    {
     "name": "stdout",
     "output_type": "stream",
     "text": [
      "Advocate side extraction done!\n"
     ]
    }
   ],
   "source": [
    "###tfidf vectorizer bag of words using scotus_justice, petitioner, respondent, and additional features\n",
    "##features: chief justice indicator, petitioner code, respondent code, issue code, issue area code\n",
    "\n",
    "#use original scdb winning party as verdict\n",
    "#verdict value 0 = no favorable disposition for petitioning part apparent\n",
    "#verdict value 1 = petitioning party received a favorable disposition\n",
    "verdict = []\n",
    "verdict_csv = csv.reader(open('./SCDB_2017_01_caseCentered_Citation.csv'))\n",
    "for row in verdict_csv:\n",
    "    docket_number = re.sub('-', '_', row[13])\n",
    "    docket_number = re.sub(' ORIG', '_orig', docket_number)\n",
    "    case_id = row[10]+'_'+docket_number\n",
    "    verdict.append([case_id, row[12], row[17], row[19], row[36], row[39], row[40]])\n",
    "    \n",
    "verdict_header = verdict.pop(0)\n",
    "verdict = pd.DataFrame(verdict, columns = verdict_header)\n",
    "    \n",
    "print \"Verdict extraction done!\"\n",
    "    \n",
    "#concate the turns files\n",
    "turns_combined = pd.concat([turns1, turns2, turns3, turns4])\n",
    "\n",
    "#remove _t01 and _t02 from transcript_id in turns_combined\n",
    "turns_combined['transcript_id'] = turns_combined['transcript_id'].str.replace('_t01','')\n",
    "turns_combined['transcript_id'] = turns_combined['transcript_id'].str.replace('_t02','')\n",
    "\n",
    "#get advocate sides\n",
    "advocates = pd.read_json('./advocate_dict.json')\n",
    "\n",
    "advocate_turns = []\n",
    "\n",
    "for index, row in turns_combined.iterrows():\n",
    "    if row['speaker_role'] == 'scotus_justice':\n",
    "        advocate_turns.append('scotus_justice')\n",
    "    else:\n",
    "        speaker = row['speaker']\n",
    "        transcript_id = row['transcript_id']\n",
    "        try:\n",
    "            lawyer_side = advocates.ix[speaker][transcript_id]\n",
    "            advocate_turns.append(lawyer_side)\n",
    "        except:\n",
    "            advocate_turns.append('None')\n",
    "\n",
    "#insert advocate side to the turns_combined dataframe\n",
    "turns_combined['lawyer_side'] = advocate_turns\n",
    "\n",
    "print \"Advocate side extraction done!\""
   ]
  },
  {
   "cell_type": "code",
   "execution_count": 8,
   "metadata": {},
   "outputs": [],
   "source": [
    "# ! pip install testfixtures\n",
    "# ! pip install statsmodels\n",
    "# ! pip install -U gensim\n",
    "# ! pip install google-compute-engine\n",
    "# Source https://medium.com/@klintcho/doc2vec-tutorial-using-gensim-ab3ac03d3a1\n",
    "# Source https://rare-technologies.com/doc2vec-tutorial/\n",
    "\n",
    "\n",
    "import gensim\n",
    "from gensim.models.doc2vec import TaggedDocument\n",
    "from collections import namedtuple\n",
    "\n",
    "from gensim.models import Doc2Vec\n",
    "import gensim.models.doc2vec\n",
    "from collections import OrderedDict\n",
    "import multiprocessing\n",
    "\n",
    "cores = multiprocessing.cpu_count()\n",
    "assert gensim.models.doc2vec.FAST_VERSION > -1, \"This will be painfully slow otherwise\"\n",
    "\n",
    "class LabeledLineSentence(object):\n",
    "    def __init__(self, doc_list, labels_list):\n",
    "       self.labels_list = labels_list\n",
    "       self.doc_list = doc_list\n",
    "    def __iter__(self):\n",
    "        for idx, doc in enumerate(self.doc_list):\n",
    "            yield gensim.models.doc2vec.TaggedDocument(gensim.utils.simple_preprocess(doc), [idx])\n",
    "            \n",
    "class LabeledLineSentence_2(object):\n",
    "    def __init__(self, doc_list, labels_list):\n",
    "       self.labels_list = labels_list\n",
    "       self.doc_list = doc_list\n",
    "    def __iter__(self):\n",
    "        for idx, doc in enumerate(self.doc_list):\n",
    "            yield gensim.models.doc2vec.TaggedDocument(gensim.utils.tokenize(doc, lowercase=False, deacc=False)\n",
    "                                                       , [idx])\n",
    "\n",
    "# End Source https://medium.com/@klintcho/doc2vec-tutorial-using-gensim-ab3ac03d3a1\n",
    "# End Source https://rare-technologies.com/doc2vec-tutorial/"
   ]
  },
  {
   "cell_type": "code",
   "execution_count": 9,
   "metadata": {},
   "outputs": [],
   "source": [
    "turns_combined.reset_index()\n",
    "\n",
    "turns_id_list = list(turns_combined.index)\n",
    "turns_doc_list = list(turns_combined['text'])\n",
    "\n",
    "\n",
    "LLS = LabeledLineSentence(turns_doc_list, turns_id_list)\n",
    "\n",
    "\n",
    "D2V_model_1 = Doc2Vec(dm=1, dm_concat=1, size=100, window=5, negative=5, hs=0, min_count=2, workers=cores)\n",
    "\n",
    "\n",
    "D2V_model_1.build_vocab(LLS)\n",
    "\n",
    "for epoch in range(5):\n",
    "    D2V_model_1.train(LLS, total_examples=D2V_model_1.corpus_count, epochs = D2V_model_1.iter)\n",
    "    D2V_model_1.alpha -= .002\n",
    "    D2V_model_1.min_alpha = D2V_model_1.alpha\n",
    "    \n",
    "D2V_model_1.save(\"D2V_model_1.model\")"
   ]
  },
  {
   "cell_type": "code",
   "execution_count": 80,
   "metadata": {},
   "outputs": [
    {
     "name": "stdout",
     "output_type": "stream",
     "text": [
      "Input: peace, \n",
      "Model closest words: [(u'tranquility', 0.5311189889907837), (u'stewarts', 0.4886077046394348), (u'sadatory', 0.45930325984954834), (u'stability', 0.4572198987007141), (u'unionism', 0.44973957538604736), (u'electorals', 0.4415823519229889), (u'brigades', 0.44077983498573303), (u'kasper', 0.44069474935531616), (u'prescriptively', 0.4369589686393738), (u'bcoa', 0.4366857409477234)]\n",
      "\n",
      "\n",
      "Input: car, \n",
      "Model closest words: [(u'vehicle', 0.7312911748886108), (u'boat', 0.6928608417510986), (u'truck', 0.6718095541000366), (u'automobile', 0.6695407629013062), (u'cassettes', 0.6644566655158997), (u'suitcase', 0.6515026688575745), (u'purse', 0.6365275382995605), (u'jacket', 0.6342107653617859), (u'garage', 0.6202502250671387), (u'storeroom', 0.6096722483634949)]\n",
      "\n",
      "\n",
      "Input: ass, \n",
      "Model closest words: [(u'mincemeat', 0.5299732089042664), (u'prick', 0.5092878341674805), (u'grame', 0.5028431415557861), (u'ostrich', 0.48882126808166504), (u'hausman', 0.4887290596961975), (u'maguire', 0.48137548565864563), (u'indelible', 0.47945672273635864), (u'nonremovability', 0.47588473558425903), (u'chestnut', 0.4750848412513733), (u'coolahan', 0.4747839570045471)]\n",
      "\n",
      "\n",
      "Input: lawyer, \n",
      "Model closest words: [(u'witness', 0.6574686765670776), (u'counsel', 0.6435940861701965), (u'accountant', 0.6245524883270264), (u'policeman', 0.6015713214874268), (u'doctor', 0.5936331748962402), (u'employer', 0.5836718678474426), (u'physician', 0.5827219486236572), (u'prosecutor', 0.5776660442352295), (u'practitioner', 0.5772351026535034), (u'guardian', 0.5717093348503113)]\n",
      "\n",
      "\n",
      "Input: brief, \n",
      "Model closest words: [(u'amici', 0.7057114839553833), (u'reply', 0.6380528211593628), (u'appellee', 0.5940775871276855), (u'buccafusco', 0.5877095460891724), (u'intervenor', 0.5836424231529236), (u'sg', 0.5757963061332703), (u'afcfl', 0.575766921043396), (u'apha', 0.5730108022689819), (u'aarp', 0.5457266569137573), (u'nam', 0.542495846748352)]\n",
      "\n",
      "\n",
      "Input: scalia, \n",
      "Model closest words: [(u'souter', 0.9309816360473633), (u'alito', 0.9249942302703857), (u'breyer', 0.9087859392166138), (u'sotomayor', 0.9028191566467285), (u'kagan', 0.9020611047744751), (u'ginsburg', 0.8897783756256104), (u'kennedy', 0.8767640590667725), (u'connor', 0.8733111023902893), (u'stevens', 0.8517748117446899), (u'blackmun', 0.7780601978302002)]\n",
      "\n",
      "\n",
      "Input: warren, \n",
      "Model closest words: [(u'graso', 0.5927605032920837), (u'butler', 0.5853535532951355), (u'kerrigan', 0.5719543695449829), (u'colonnade', 0.5677273273468018), (u'reid', 0.5640528202056885), (u'jackson', 0.5629463791847229), (u'reed', 0.5606162548065186), (u'espinoza', 0.5600352883338928), (u'clark', 0.559544026851654), (u'dillon', 0.5591480731964111)]\n"
     ]
    }
   ],
   "source": [
    "# fun with word embeddings!\n",
    "\n",
    "print \"Input: peace, \\nModel closest words:\", D2V_model_1.most_similar(\"peace\")\n",
    "\n",
    "print \"\\n\\nInput: car, \\nModel closest words:\", D2V_model_1.most_similar(\"car\")\n",
    "\n",
    "print \"\\n\\nInput: ass, \\nModel closest words:\", D2V_model_1.most_similar(\"ass\")\n",
    "\n",
    "print \"\\n\\nInput: lawyer, \\nModel closest words:\", D2V_model_1.most_similar(\"lawyer\")\n",
    "\n",
    "print \"\\n\\nInput: brief, \\nModel closest words:\", D2V_model_1.most_similar(\"amicus\")\n",
    "\n",
    "print \"\\n\\nInput: scalia, \\nModel closest words:\", D2V_model_1.most_similar(\"scalia\")\n",
    "\n",
    "print \"\\n\\nInput: warren, \\nModel closest words:\", D2V_model_1.most_similar(\"warren\")"
   ]
  },
  {
   "cell_type": "code",
   "execution_count": 89,
   "metadata": {},
   "outputs": [
    {
     "name": "stdout",
     "output_type": "stream",
     "text": [
      "start vocab build\n",
      "vocab build complete\n",
      "starting epoch: 0\n",
      "epoch 0 complete!\n",
      "starting epoch: 1\n",
      "epoch 1 complete!\n",
      "starting epoch: 2\n",
      "epoch 2 complete!\n",
      "starting epoch: 3\n",
      "epoch 3 complete!\n",
      "starting epoch: 4\n",
      "epoch 4 complete!\n"
     ]
    }
   ],
   "source": [
    "D2V_model_2 = Doc2Vec(dm=1, dm_concat=1, size=300, window=5, negative=5, hs=0, min_count=2, workers=cores)\n",
    "\n",
    "print \"start vocab build\"\n",
    "D2V_model_2.build_vocab(LLS)\n",
    "print \"vocab build complete\"\n",
    "\n",
    "for epoch in range(5):\n",
    "    print \"starting epoch:\", epoch\n",
    "    D2V_model_2.train(LLS, total_examples=D2V_model_2.corpus_count, epochs = D2V_model_2.iter)\n",
    "    D2V_model_2.alpha -= .002\n",
    "    D2V_model_2.min_alpha = D2V_model_2.alpha\n",
    "    print \"epoch\", epoch, \"complete!\"\n",
    "    \n",
    "D2V_model_2.save(\"D2V_model_2.model\")"
   ]
  },
  {
   "cell_type": "code",
   "execution_count": 91,
   "metadata": {},
   "outputs": [
    {
     "name": "stdout",
     "output_type": "stream",
     "text": [
      "Input: peace, \n",
      "Model closest words: [(u'tranquility', 0.40127530694007874), (u'troops', 0.34656965732574463), (u'disturbance', 0.3442133665084839), (u'mccowan', 0.3387118875980377), (u'liacos', 0.33820652961730957), (u'gelanoff', 0.33746036887168884), (u'cardozo', 0.33463233709335327), (u'blackmunn', 0.3336831331253052), (u'strife', 0.33232367038726807), (u'cerbone', 0.3318098783493042)]\n",
      "\n",
      "\n",
      "Input: car, \n",
      "Model closest words: [(u'automobile', 0.625665545463562), (u'vehicle', 0.6246552467346191), (u'trunk', 0.5553689002990723), (u'bag', 0.5525622367858887), (u'cars', 0.5517411231994629), (u'driver', 0.5461315512657166), (u'luggage', 0.5409799218177795), (u'briefcase', 0.5302218198776245), (u'suitcase', 0.5209747552871704), (u'truck', 0.5048241019248962)]\n",
      "\n",
      "\n",
      "Input: ass, \n",
      "Model closest words: [(u'blanked', 0.48835620284080505), (u'pours', 0.48456984758377075), (u'attache', 0.4808800220489502), (u'rubbing', 0.4740096628665924), (u'threshed', 0.451870858669281), (u'cashiered', 0.4517822265625), (u'snip', 0.4487316608428955), (u'throwing', 0.44850391149520874), (u'fleshing', 0.4436355233192444), (u'exodus', 0.43650734424591064)]\n",
      "\n",
      "\n",
      "Input: lawyer, \n",
      "Model closest words: [(u'counsel', 0.5073167085647583), (u'attorneys', 0.4770980477333069), (u'lawyers', 0.4745146632194519), (u'doctor', 0.4604387581348419), (u'attorney', 0.43902552127838135), (u'client', 0.41150692105293274), (u'investigator', 0.41072091460227966), (u'boss', 0.4059540033340454), (u'psychiatrist', 0.39932116866111755), (u'physician', 0.39699310064315796)]\n",
      "\n",
      "\n",
      "Input: brief, \n",
      "Model closest words: [(u'reply', 0.564300537109375), (u'amici', 0.5325207710266113), (u'ncadh', 0.5271098017692566), (u'ping', 0.484494149684906), (u'appendices', 0.4780069589614868), (u'curiae', 0.4720120429992676), (u'surreply', 0.4509466886520386), (u'briefs', 0.442015677690506), (u'appellee', 0.43244898319244385), (u'supplemental', 0.42658567428588867)]\n",
      "\n",
      "\n",
      "Input: scalia, \n",
      "Model closest words: [(u'stevens', 0.6592751741409302), (u'breyer', 0.6381940841674805), (u'ginsburg', 0.6306917667388916), (u'connor', 0.6231204271316528), (u'souter', 0.622990071773529), (u'sotomayor', 0.6187642216682434), (u'alito', 0.6037984490394592), (u'kagan', 0.5927602052688599), (u'kennedy', 0.5757385492324829), (u'rehnquist', 0.5310463905334473)]\n",
      "\n",
      "\n",
      "Input: warren, \n",
      "Model closest words: [(u'mccarthy', 0.5488380789756775), (u'potter', 0.5097842812538147), (u'landis', 0.4972210228443146), (u'motley', 0.4963999390602112), (u'pajalich', 0.4944089949131012), (u'benjamin', 0.4942103624343872), (u'steele', 0.4940134882926941), (u'cudahy', 0.49378615617752075), (u'desmond', 0.4927927255630493), (u'dartt', 0.49030008912086487)]\n"
     ]
    }
   ],
   "source": [
    "# Fun with word embeddings!\n",
    "\n",
    "print \"Input: peace, \\nModel closest words:\", D2V_model_2.most_similar(\"peace\")\n",
    "\n",
    "print \"\\n\\nInput: car, \\nModel closest words:\", D2V_model_2.most_similar(\"car\")\n",
    "\n",
    "print \"\\n\\nInput: ass, \\nModel closest words:\", D2V_model_2.most_similar(\"ass\")\n",
    "\n",
    "print \"\\n\\nInput: lawyer, \\nModel closest words:\", D2V_model_2.most_similar(\"lawyer\")\n",
    "\n",
    "print \"\\n\\nInput: brief, \\nModel closest words:\", D2V_model_2.most_similar(\"amicus\")\n",
    "\n",
    "print \"\\n\\nInput: scalia, \\nModel closest words:\", D2V_model_2.most_similar(\"scalia\")\n",
    "\n",
    "print \"\\n\\nInput: warren, \\nModel closest words:\", D2V_model_2.most_similar(\"warren\")"
   ]
  },
  {
   "cell_type": "code",
   "execution_count": 10,
   "metadata": {},
   "outputs": [
    {
     "name": "stdout",
     "output_type": "stream",
     "text": [
      "start vocab build\n",
      "vocab build complete\n",
      "starting epoch: 0\n",
      "epoch 0 complete!\n",
      "starting epoch: 1\n",
      "epoch 1 complete!\n",
      "starting epoch: 2\n",
      "epoch 2 complete!\n",
      "starting epoch: 3\n",
      "epoch 3 complete!\n",
      "starting epoch: 4\n",
      "epoch 4 complete!\n"
     ]
    }
   ],
   "source": [
    "D2V_model_3 = Doc2Vec(dm=1, dm_concat=1, size=500, window=5, negative=5, hs=0, min_count=2, workers=cores)\n",
    "\n",
    "print \"start vocab build\"\n",
    "D2V_model_3.build_vocab(LLS)\n",
    "print \"vocab build complete\"\n",
    "\n",
    "for epoch in range(5):\n",
    "    print \"starting epoch:\", epoch\n",
    "    D2V_model_3.train(LLS, total_examples=D2V_model_3.corpus_count, epochs = D2V_model_3.iter)\n",
    "    D2V_model_3.alpha -= .002\n",
    "    D2V_model_3.min_alpha = D2V_model_3.alpha\n",
    "    print \"epoch\", epoch, \"complete!\"\n",
    "    \n",
    "D2V_model_3.save(\"D2V_model_3.model\")"
   ]
  },
  {
   "cell_type": "code",
   "execution_count": 29,
   "metadata": {},
   "outputs": [
    {
     "name": "stdout",
     "output_type": "stream",
     "text": [
      "Input: peace, \n",
      "Model closest words: [(u'steven', 0.37264305353164673), (u'brooms', 0.3607844114303589), (u'scalla', 0.35193949937820435), (u'renquist', 0.34575673937797546), (u'brennen', 0.34133613109588623), (u'blackmunn', 0.3372461795806885), (u'relations', 0.329671710729599), (u'goldberg', 0.32753878831863403), (u'almon', 0.3237515687942505), (u'traynor', 0.32294324040412903)]\n",
      "[(u'commanding', 0.3492300510406494), (u'war', 0.33108678460121155), (u'strife', 0.3175165057182312), (u'combat', 0.3145287036895752), (u'thornal', 0.31214556097984314), (u'crabbage', 0.30891385674476624), (u'brandeis', 0.30824047327041626), (u'brockman', 0.30811819434165955), (u'cabinet', 0.3076246380805969), (u'corrections', 0.3067004680633545)]\n",
      "\n",
      "\n",
      "Input: car, \n",
      "Model closest words: [(u'vehicle', 0.6379237174987793), (u'automobile', 0.6153426766395569), (u'truck', 0.5652374029159546), (u'trunk', 0.5541342496871948), (u'cars', 0.5353782176971436), (u'passenger', 0.5315651893615723), (u'dog', 0.5182844400405884), (u'briefcase', 0.5151968002319336), (u'compartment', 0.5151098966598511), (u'shirt', 0.5126748085021973)]\n",
      "\n",
      "\n",
      "Input: ass, \n",
      "Model closest words: [(u'impersonate', 0.48543581366539), (u'silvermaster', 0.4730091392993927), (u'contraption', 0.46989282965660095), (u'nonpower', 0.46498462557792664), (u'webg', 0.4601505398750305), (u'rags', 0.4594801068305969), (u'usurpers', 0.4544830322265625), (u'accentuates', 0.45182374119758606), (u'temonio', 0.4514457881450653), (u'prossing', 0.4506000876426697)]\n",
      "\n",
      "\n",
      "Input: lawyer, \n",
      "Model closest words: [(u'lawyers', 0.4925924241542816), (u'attorneys', 0.45976802706718445), (u'counsel', 0.457406222820282), (u'client', 0.4413752555847168), (u'attorney', 0.4382808208465576), (u'cellmate', 0.41555073857307434), (u'kid', 0.3883877694606781), (u'advice', 0.36463242769241333), (u'prosecutor', 0.3628881573677063), (u'doctor', 0.36101651191711426)]\n",
      "\n",
      "\n",
      "Input: brief, \n",
      "Model closest words: [(u'amici', 0.5848879218101501), (u'curiae', 0.5621597766876221), (u'reply', 0.5068793296813965), (u'briefs', 0.4127572774887085), (u'unindicted', 0.40897512435913086), (u'curie', 0.4071720242500305), (u'afcfl', 0.4043905436992645), (u'supplemental', 0.3991223871707916), (u'opposition', 0.39278972148895264), (u'redly', 0.3887672424316406)]\n",
      "\n",
      "\n",
      "Input: scalia, \n",
      "Model closest words: [(u'souter', 0.6080859899520874), (u'ginsburg', 0.5812138319015503), (u'kagan', 0.5688149929046631), (u'sotomayor', 0.5667010545730591), (u'breyer', 0.5663285851478577), (u'stevens', 0.5652270317077637), (u'kennedy', 0.5161253809928894), (u'connor', 0.5097150802612305), (u'rehnquist', 0.500028133392334), (u'alito', 0.4992814064025879)]\n",
      "\n",
      "\n",
      "Input: warren, \n",
      "Model closest words: [(u'regulations', 0.4825497269630432), (u'implementation', 0.3234115242958069), (u'directive', 0.3199593126773834), (u'statue', 0.31608107686042786), (u'disclaimer', 0.30899012088775635), (u'supervision', 0.3085004389286041), (u'nationalism', 0.3077888488769531), (u'accreditation', 0.3040604591369629), (u'reg', 0.2993444800376892), (u'occ', 0.29929718375205994)]\n"
     ]
    }
   ],
   "source": [
    "# Fun with word embeddings!\n",
    "\n",
    "print \"Input: peace, \\nModel closest words:\", D2V_model_3.most_similar(\"peace\")\n",
    "\n",
    "print \"\\n\\nInput: car, \\nModel closest words:\", D2V_model_3.most_similar(\"car\")\n",
    "\n",
    "print \"\\n\\nInput: ass, \\nModel closest words:\", D2V_model_3.most_similar(\"ass\")\n",
    "\n",
    "print \"\\n\\nInput: lawyer, \\nModel closest words:\", D2V_model_3.most_similar(\"lawyer\")\n",
    "\n",
    "print \"\\n\\nInput: brief, \\nModel closest words:\", D2V_model_3.most_similar(\"amicus\")\n",
    "\n",
    "print \"\\n\\nInput: scalia, \\nModel closest words:\", D2V_model_3.most_similar(\"scalia\")\n",
    "\n",
    "print \"\\n\\nInput: warren, \\nModel closest words:\", D2V_model_4.most_similar(\"regulation\")\n",
    "\n"
   ]
  }
 ],
 "metadata": {
  "kernelspec": {
   "display_name": "Python 2",
   "language": "python",
   "name": "python2"
  },
  "language_info": {
   "codemirror_mode": {
    "name": "ipython",
    "version": 2
   },
   "file_extension": ".py",
   "mimetype": "text/x-python",
   "name": "python",
   "nbconvert_exporter": "python",
   "pygments_lexer": "ipython2",
   "version": "2.7.13"
  }
 },
 "nbformat": 4,
 "nbformat_minor": 2
}
